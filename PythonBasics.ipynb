{
 "cells": [
  {
   "cell_type": "code",
   "execution_count": null,
   "id": "1438ed87-36f9-4d08-bef0-19b5ca8d92d1",
   "metadata": {},
   "outputs": [],
   "source": [
    "# Introduction to Python - Practice Exercise\n",
    "\n",
    "# Task 1: Variable Declaration and Data Types\n",
    "# Declare variables of different types and print their values and types\n",
    "\n",
    "# Task 2: String Manipulation\n",
    "# Create a string variable and use at least 3 different string methods on it\n",
    "\n",
    "# Task 3: Basic Operations\n",
    "# Perform arithmetic, comparison, and logical operations with variables\n",
    "\n",
    "# Task 4: Data Collections\n",
    "# Create examples of a list, dictionary, and tuple, then access specific elements\n",
    "\n",
    "# Task 5: Expression Combination\n",
    "# Write an expression that combines multiple operations and variables"
   ]
  }
 ],
 "metadata": {
  "kernelspec": {
   "display_name": "Python 3 (ipykernel)",
   "language": "python",
   "name": "python3"
  },
  "language_info": {
   "codemirror_mode": {
    "name": "ipython",
    "version": 3
   },
   "file_extension": ".py",
   "mimetype": "text/x-python",
   "name": "python",
   "nbconvert_exporter": "python",
   "pygments_lexer": "ipython3",
   "version": "3.13.2"
  }
 },
 "nbformat": 4,
 "nbformat_minor": 5
}
