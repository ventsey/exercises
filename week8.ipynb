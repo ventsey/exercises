{
 "cells": [
  {
   "cell_type": "code",
   "execution_count": null,
   "id": "ec0a064b-ed78-47fc-81f5-8e33f3c24483",
   "metadata": {},
   "outputs": [],
   "source": [
    "import pandas as pd"
   ]
  },
  {
   "cell_type": "code",
   "execution_count": null,
   "id": "7ee829c4-28f0-450b-9482-f7e76d65fdaf",
   "metadata": {},
   "outputs": [],
   "source": [
    "inventory = pd.read_csv('wk8-inventory.csv')"
   ]
  },
  {
   "cell_type": "code",
   "execution_count": null,
   "id": "f674e745-6a4a-46d5-9a7a-f05ddb8ee4b5",
   "metadata": {},
   "outputs": [],
   "source": [
    "sales = pd.read_csv('wk8-sales.csv')"
   ]
  },
  {
   "cell_type": "code",
   "execution_count": null,
   "id": "eef7aee7-33d2-4a7d-b2fd-739ca2bb3d71",
   "metadata": {},
   "outputs": [],
   "source": [
    "stores = pd.read_csv('wk8-stores.csv')"
   ]
  },
  {
   "cell_type": "code",
   "execution_count": null,
   "id": "cdb0a248-8c90-443d-ba71-c822eff2ef73",
   "metadata": {},
   "outputs": [],
   "source": [
    "customers = pd.read_csv('wk8-customers.csv')"
   ]
  },
  {
   "cell_type": "code",
   "execution_count": null,
   "id": "cb21ea4c-7a4e-41f0-82c5-591bb2ac5db2",
   "metadata": {},
   "outputs": [],
   "source": [
    "products = pd.read_csv('wk8-products.csv')"
   ]
  },
  {
   "cell_type": "code",
   "execution_count": null,
   "id": "480208f8-b89f-4723-908e-167880af77fb",
   "metadata": {},
   "outputs": [],
   "source": [
    "products.head()"
   ]
  },
  {
   "cell_type": "code",
   "execution_count": null,
   "id": "dc8c04e1-6665-4a60-aa65-23e15e7da84c",
   "metadata": {},
   "outputs": [],
   "source": [
    "inventory.head()"
   ]
  },
  {
   "cell_type": "code",
   "execution_count": null,
   "id": "174b1e52-014b-4770-ab55-f2cda7a0985e",
   "metadata": {},
   "outputs": [],
   "source": [
    "sales.head()"
   ]
  },
  {
   "cell_type": "code",
   "execution_count": null,
   "id": "e619e001-9e56-4ea5-8b13-7c76e8f2542c",
   "metadata": {},
   "outputs": [],
   "source": [
    "stores.head()"
   ]
  },
  {
   "cell_type": "code",
   "execution_count": null,
   "id": "bed742df-8e23-4f00-a31e-ef2000256e02",
   "metadata": {},
   "outputs": [],
   "source": [
    "customers.head()"
   ]
  },
  {
   "cell_type": "code",
   "execution_count": null,
   "id": "5a17ab9c-a2fa-42b6-86e8-c5f6227be697",
   "metadata": {},
   "outputs": [],
   "source": [
    "products.describe()"
   ]
  },
  {
   "cell_type": "code",
   "execution_count": null,
   "id": "b48af225-d4d1-4c8d-a2a2-c25618d3248b",
   "metadata": {},
   "outputs": [],
   "source": [
    "customers.describe()"
   ]
  },
  {
   "cell_type": "code",
   "execution_count": null,
   "id": "837bd100-6888-4d76-a249-2cf61c072ac1",
   "metadata": {},
   "outputs": [],
   "source": [
    "stores.describe()"
   ]
  },
  {
   "cell_type": "code",
   "execution_count": null,
   "id": "6b13e2f4-7ee9-4239-8b22-fd3c8a0c64ad",
   "metadata": {},
   "outputs": [],
   "source": [
    "sales.describe()"
   ]
  },
  {
   "cell_type": "code",
   "execution_count": null,
   "id": "abb8b657-076e-4e1a-9741-b75969761791",
   "metadata": {},
   "outputs": [],
   "source": [
    "inventory.describe()"
   ]
  },
  {
   "cell_type": "code",
   "execution_count": null,
   "id": "9ba68cff-92af-4ebd-a9b5-50107d4050fd",
   "metadata": {},
   "outputs": [],
   "source": [
    "sales.isnull().sum()"
   ]
  },
  {
   "cell_type": "code",
   "execution_count": null,
   "id": "2228edef-d7b9-406c-b9d7-999861441aa3",
   "metadata": {},
   "outputs": [],
   "source": [
    "stores.isnull().sum()"
   ]
  },
  {
   "cell_type": "code",
   "execution_count": null,
   "id": "ca9ae664-4721-4b0d-9d97-9284b67e2d22",
   "metadata": {},
   "outputs": [],
   "source": [
    "customers.isnull().sum()"
   ]
  },
  {
   "cell_type": "code",
   "execution_count": null,
   "id": "8cb66f2c-c9d4-48f0-98a0-6fd884fa4718",
   "metadata": {},
   "outputs": [],
   "source": [
    "products.isnull().sum()"
   ]
  },
  {
   "cell_type": "code",
   "execution_count": null,
   "id": "5728011a-0a3a-415b-b266-385671c2b172",
   "metadata": {},
   "outputs": [],
   "source": [
    "inventory.isnull().sum()"
   ]
  },
  {
   "cell_type": "code",
   "execution_count": null,
   "id": "db402611-2591-43c7-94c9-eeeaae47cad7",
   "metadata": {},
   "outputs": [],
   "source": [
    "inventory.dtypes"
   ]
  },
  {
   "cell_type": "code",
   "execution_count": null,
   "id": "fbd1ddfb-a68f-4764-9f28-e1417f8830a7",
   "metadata": {},
   "outputs": [],
   "source": [
    "products.dtypes"
   ]
  },
  {
   "cell_type": "code",
   "execution_count": null,
   "id": "81710923-066f-440c-8f83-f3a6b13f61bc",
   "metadata": {},
   "outputs": [],
   "source": [
    "customers.dtypes"
   ]
  },
  {
   "cell_type": "code",
   "execution_count": null,
   "id": "f6c32d1c-7126-40c6-bf4b-f6fe9c217172",
   "metadata": {},
   "outputs": [],
   "source": [
    "stores.dtypes"
   ]
  },
  {
   "cell_type": "code",
   "execution_count": null,
   "id": "f977b9d1-8b30-4ca1-9375-15aca0d91d77",
   "metadata": {},
   "outputs": [],
   "source": [
    "sales.dtypes"
   ]
  },
  {
   "cell_type": "code",
   "execution_count": null,
   "id": "2fef6207-7625-4586-ab19-2794df0248c3",
   "metadata": {},
   "outputs": [],
   "source": [
    "##part 1 question 3"
   ]
  },
  {
   "cell_type": "code",
   "execution_count": null,
   "id": "331dc7cd-5fd8-4e53-ad01-20174b30d9e6",
   "metadata": {},
   "outputs": [],
   "source": [
    "products['product_id'].nunique()"
   ]
  },
  {
   "cell_type": "code",
   "execution_count": null,
   "id": "edc20c48-2965-4d80-862c-2626f8f36230",
   "metadata": {},
   "outputs": [],
   "source": [
    "expensive = products.sort_values(by=\"price\", ascending=False).head()\n",
    "expensive"
   ]
  },
  {
   "cell_type": "code",
   "execution_count": null,
   "id": "ed0426ae-c2c4-4c5f-93cd-b880a7118a08",
   "metadata": {},
   "outputs": [],
   "source": [
    "floor_space = stores.sort_values(by=\"size_sqft\", ascending=False).head(1)\n",
    "floor_space"
   ]
  },
  {
   "cell_type": "code",
   "execution_count": null,
   "id": "f28c0700-10ec-4e9f-8230-b93fb20f5d9c",
   "metadata": {},
   "outputs": [],
   "source": [
    "state_distribution = customers['state'].value_counts()\n",
    "state_distribution"
   ]
  },
  {
   "cell_type": "code",
   "execution_count": null,
   "id": "1934e2e2-bc35-446a-823f-32f9f7a3962f",
   "metadata": {},
   "outputs": [],
   "source": [
    "##part 2 question 1"
   ]
  },
  {
   "cell_type": "code",
   "execution_count": null,
   "id": "492f226f-0585-4f9c-a2af-f95096cc9d0a",
   "metadata": {},
   "outputs": [],
   "source": [
    "customers.info"
   ]
  },
  {
   "cell_type": "code",
   "execution_count": null,
   "id": "08109f6d-c96f-4a26-a396-c8390e15399a",
   "metadata": {},
   "outputs": [],
   "source": [
    "products.info"
   ]
  },
  {
   "cell_type": "code",
   "execution_count": null,
   "id": "783f7a46-b3ee-44a7-98f6-f2c717954130",
   "metadata": {},
   "outputs": [],
   "source": [
    "inventory.info"
   ]
  },
  {
   "cell_type": "code",
   "execution_count": null,
   "id": "d78544ce-9b2c-4b46-9363-b590a4f1afef",
   "metadata": {},
   "outputs": [],
   "source": [
    "stores.info"
   ]
  },
  {
   "cell_type": "code",
   "execution_count": null,
   "id": "3df429cb-9c31-446c-b9be-950f4b79caa2",
   "metadata": {},
   "outputs": [],
   "source": [
    "sales.info"
   ]
  },
  {
   "cell_type": "code",
   "execution_count": null,
   "id": "964c8430-52fc-4208-b6cd-46a08222f254",
   "metadata": {},
   "outputs": [],
   "source": []
  },
  {
   "cell_type": "code",
   "execution_count": null,
   "id": "ac273365-0bd8-46fa-b2dd-0bf341f5ccc9",
   "metadata": {},
   "outputs": [],
   "source": [
    "inventory.isnull().sum()"
   ]
  },
  {
   "cell_type": "code",
   "execution_count": null,
   "id": "6b045e40-1eb2-4a10-be42-090b60f225a3",
   "metadata": {},
   "outputs": [],
   "source": [
    "products.dtypes"
   ]
  },
  {
   "cell_type": "code",
   "execution_count": null,
   "id": "bc9c6bab-7f63-4c9f-8bbf-fbd555c7a810",
   "metadata": {},
   "outputs": [],
   "source": [
    "inventory['reorder_level'] = inventory['reorder_level'].fillna(inventory['reorder_level'].mean())"
   ]
  },
  {
   "cell_type": "code",
   "execution_count": null,
   "id": "75c55ca0-0e2c-40ad-8ca9-c6337293ac2b",
   "metadata": {},
   "outputs": [],
   "source": [
    "inventory['last_restock_date'] = inventory['last_restock_date'].fillna(inventory['last_restock_date'].mode()[0])"
   ]
  },
  {
   "cell_type": "code",
   "execution_count": null,
   "id": "65d4c6d9-32a5-4425-b85f-047b8dfc031d",
   "metadata": {},
   "outputs": [],
   "source": []
  },
  {
   "cell_type": "code",
   "execution_count": null,
   "id": "ca29f08d-769d-4f6c-a8a3-2fcdb64274e5",
   "metadata": {},
   "outputs": [],
   "source": [
    "products['weight'] = products['weight'].fillna(products['weight'].mean())"
   ]
  },
  {
   "cell_type": "code",
   "execution_count": null,
   "id": "27e7694d-2917-40d9-b7ce-5f743070cf02",
   "metadata": {},
   "outputs": [],
   "source": []
  },
  {
   "cell_type": "code",
   "execution_count": null,
   "id": "1c219aa4-1b49-4e7d-b5fc-c18830b9d55e",
   "metadata": {},
   "outputs": [],
   "source": [
    "customers['email'] = customers['email'].fillna(customers['email'].mode()[0])"
   ]
  },
  {
   "cell_type": "code",
   "execution_count": null,
   "id": "c24f0c41-d776-43ea-8b42-a4a3ec261dd9",
   "metadata": {},
   "outputs": [],
   "source": [
    "customers['phone'] = customers['phone'].fillna(customers['phone'].mode()[0])"
   ]
  },
  {
   "cell_type": "code",
   "execution_count": null,
   "id": "7f19fdad-bc17-4385-94b8-c7adcf491878",
   "metadata": {},
   "outputs": [],
   "source": [
    "customers['zip_code'] = customers['zip_code'].fillna(customers['zip_code'].mode()[0])"
   ]
  },
  {
   "cell_type": "code",
   "execution_count": null,
   "id": "ecdcb55d-99fd-42c0-8d8e-8234d3d49b80",
   "metadata": {},
   "outputs": [],
   "source": [
    "customers['registration_date'] = customers['registration_date'].fillna(customers['registration_date'].mode()[0])"
   ]
  },
  {
   "cell_type": "code",
   "execution_count": null,
   "id": "c1ace3eb-e909-4d45-8543-be9c842eab87",
   "metadata": {},
   "outputs": [],
   "source": []
  },
  {
   "cell_type": "code",
   "execution_count": null,
   "id": "87f3af02-b6bd-4fba-a494-9bc53431f9b8",
   "metadata": {},
   "outputs": [],
   "source": [
    "stores['opening_date'] = stores['opening_date'].fillna(stores['opening_date'].mode()[0])"
   ]
  },
  {
   "cell_type": "code",
   "execution_count": null,
   "id": "de995047-9cb2-4b40-b4cd-8d7491844442",
   "metadata": {},
   "outputs": [],
   "source": [
    "stores['size_sqft'] = stores['size_sqft'].fillna(stores['size_sqft'].mean())"
   ]
  },
  {
   "cell_type": "code",
   "execution_count": null,
   "id": "c8f5ffea-c968-4ecb-bae8-64586c33edb9",
   "metadata": {},
   "outputs": [],
   "source": []
  },
  {
   "cell_type": "code",
   "execution_count": null,
   "id": "56291b62-ddf7-4465-96a3-fdb16af750a6",
   "metadata": {},
   "outputs": [],
   "source": [
    "sales['store_id'] = sales['store_id'].fillna(sales['store_id'].mode()[0])"
   ]
  },
  {
   "cell_type": "code",
   "execution_count": null,
   "id": "237dcaf1-108d-4974-ae17-39f2a736f259",
   "metadata": {},
   "outputs": [],
   "source": [
    "sales['payment_method'] = sales['payment_method'].fillna(sales['payment_method'].mode()[0])"
   ]
  },
  {
   "cell_type": "code",
   "execution_count": null,
   "id": "43ede864-4c12-4b15-8304-9ac95b4854e5",
   "metadata": {
    "scrolled": true
   },
   "outputs": [],
   "source": [
    "sales['date'] = sales['date'].fillna(method='ffill')\n",
    "sales"
   ]
  },
  {
   "cell_type": "code",
   "execution_count": null,
   "id": "78c8de2c-1168-46b6-9aec-807ef5dc9418",
   "metadata": {},
   "outputs": [],
   "source": [
    "##customers products"
   ]
  },
  {
   "cell_type": "code",
   "execution_count": null,
   "id": "bc9d9a88-20fa-4923-9ee7-33f1f39c70c6",
   "metadata": {},
   "outputs": [],
   "source": [
    "inventory.duplicated().sum()"
   ]
  },
  {
   "cell_type": "code",
   "execution_count": null,
   "id": "984ed0c0-8815-41bb-9137-b9095ef1a4e7",
   "metadata": {},
   "outputs": [],
   "source": [
    "customers['email'].duplicated()"
   ]
  },
  {
   "cell_type": "code",
   "execution_count": null,
   "id": "2352bc03-9bec-4c9d-a34c-84d395542a99",
   "metadata": {},
   "outputs": [],
   "source": [
    "##11,25,29\n",
    "customers"
   ]
  },
  {
   "cell_type": "code",
   "execution_count": null,
   "id": "cc552202-0c1b-417c-a518-887fa7633012",
   "metadata": {},
   "outputs": [],
   "source": [
    "#I removed the additional instances of betty lewis' email as it was reasonable to assume the email belonged to Betty and not individuals with different names.  \n",
    "##There are duplicated phone numbers but as there is no means to discern who the fake numbers belong to in the same way one would be able to in the real world(IE matching state to area codes) I left them alone. \n",
    "###to drop duplicates I would .dropduplicates(keep='first')\n",
    "correct_row_index = 25\n",
    "email_to_keep = customers.loc[correct_row_index, 'email']\n",
    "\n",
    "duplicate_email_rows = customers[(customers['email'] == email_to_keep) & (customers.index != correct_row_index)]\n",
    "\n",
    "customers.loc[duplicate_email_rows.index, 'email'] = ''\n",
    "customers"
   ]
  },
  {
   "cell_type": "code",
   "execution_count": null,
   "id": "3c27b24c-3df5-4eee-b8af-ae455e944cda",
   "metadata": {},
   "outputs": [],
   "source": [
    "customers['phone'] = customers['phone'].str.replace('-', '')\n",
    "customers['phone'] = customers['phone'].str.replace('.', '')\n",
    "customers['phone'] = customers['phone'].str.replace(' ', '')\n",
    "customers['phone'] = customers['phone'].str.replace('(', '')\n",
    "customers['phone'] = customers['phone'].str.replace(')', '')\n",
    "customers['phone'].duplicated(keep=False)"
   ]
  },
  {
   "cell_type": "code",
   "execution_count": null,
   "id": "00d9b411-fedf-4473-89f7-541169f028d6",
   "metadata": {},
   "outputs": [],
   "source": [
    "#3,11,13,21,22,25,26,29\n",
    "customers['phone'].duplicated(keep=False)"
   ]
  },
  {
   "cell_type": "code",
   "execution_count": null,
   "id": "e29c3f3e-01fb-460d-a2b5-d19504859f0a",
   "metadata": {},
   "outputs": [],
   "source": [
    "products['price'].duplicated(keep=False)\n",
    "#I did not see any duplicates in products through searching columns against duplicated(). Nor did I find any through a visual inspection sorting values\n",
    "products.sort_values(by='subcategory')"
   ]
  },
  {
   "cell_type": "code",
   "execution_count": null,
   "id": "2f5c79f4-9377-4c86-bae3-b7097d7288d7",
   "metadata": {},
   "outputs": [],
   "source": [
    "customers"
   ]
  },
  {
   "cell_type": "code",
   "execution_count": null,
   "id": "e4cf4bae-8b59-4ca7-a7df-1ef109defe62",
   "metadata": {},
   "outputs": [],
   "source": []
  }
 ],
 "metadata": {
  "kernelspec": {
   "display_name": "Python 3 (ipykernel)",
   "language": "python",
   "name": "python3"
  },
  "language_info": {
   "codemirror_mode": {
    "name": "ipython",
    "version": 3
   },
   "file_extension": ".py",
   "mimetype": "text/x-python",
   "name": "python",
   "nbconvert_exporter": "python",
   "pygments_lexer": "ipython3",
   "version": "3.12.10"
  }
 },
 "nbformat": 4,
 "nbformat_minor": 5
}
