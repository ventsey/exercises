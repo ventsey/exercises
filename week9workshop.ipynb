{
 "cells": [
  {
   "cell_type": "code",
   "execution_count": 11,
   "id": "736ca213-95fb-422b-8ca3-9bf8e7a36c5b",
   "metadata": {},
   "outputs": [],
   "source": [
    "import pandas as pd"
   ]
  },
  {
   "cell_type": "code",
   "execution_count": 12,
   "id": "1faa5676-39a9-4321-b9e7-06a57e37b111",
   "metadata": {},
   "outputs": [],
   "source": [
    "customers = pd.read_csv('Downloads/customers_wk9_thurs.csv')"
   ]
  },
  {
   "cell_type": "code",
   "execution_count": 13,
   "id": "904a47e8-d19e-4592-9f08-6fdf1c74f2ee",
   "metadata": {},
   "outputs": [],
   "source": [
    "products = pd.read_csv('Downloads/products_wk9_thurs.csv')"
   ]
  },
  {
   "cell_type": "code",
   "execution_count": 14,
   "id": "87982ede-48b0-4ab1-bc27-fbebe832a857",
   "metadata": {},
   "outputs": [],
   "source": [
    "sales = pd.read_csv('Downloads/sales_wk9_thurs.csv')"
   ]
  },
  {
   "cell_type": "code",
   "execution_count": 15,
   "id": "4f92328c-1ef1-4bb8-ae93-bc131659ec50",
   "metadata": {},
   "outputs": [
    {
     "name": "stdout",
     "output_type": "stream",
     "text": [
      "<class 'pandas.core.frame.DataFrame'>\n",
      "RangeIndex: 150 entries, 0 to 149\n",
      "Data columns (total 6 columns):\n",
      " #   Column            Non-Null Count  Dtype  \n",
      "---  ------            --------------  -----  \n",
      " 0   sale_id           150 non-null    int64  \n",
      " 1   customer_id       150 non-null    int64  \n",
      " 2   product_id        150 non-null    int64  \n",
      " 3   transaction_date  150 non-null    object \n",
      " 4   quantity          150 non-null    int64  \n",
      " 5   total_amount      150 non-null    float64\n",
      "dtypes: float64(1), int64(4), object(1)\n",
      "memory usage: 7.2+ KB\n"
     ]
    }
   ],
   "source": [
    "sales.info()"
   ]
  },
  {
   "cell_type": "code",
   "execution_count": 16,
   "id": "510e0806-2908-4971-a396-345081e4394b",
   "metadata": {},
   "outputs": [
    {
     "data": {
      "text/html": [
       "<div>\n",
       "<style scoped>\n",
       "    .dataframe tbody tr th:only-of-type {\n",
       "        vertical-align: middle;\n",
       "    }\n",
       "\n",
       "    .dataframe tbody tr th {\n",
       "        vertical-align: top;\n",
       "    }\n",
       "\n",
       "    .dataframe thead th {\n",
       "        text-align: right;\n",
       "    }\n",
       "</style>\n",
       "<table border=\"1\" class=\"dataframe\">\n",
       "  <thead>\n",
       "    <tr style=\"text-align: right;\">\n",
       "      <th></th>\n",
       "      <th>sale_id</th>\n",
       "      <th>customer_id</th>\n",
       "      <th>product_id</th>\n",
       "      <th>transaction_date</th>\n",
       "      <th>quantity</th>\n",
       "      <th>total_amount</th>\n",
       "    </tr>\n",
       "  </thead>\n",
       "  <tbody>\n",
       "    <tr>\n",
       "      <th>0</th>\n",
       "      <td>1</td>\n",
       "      <td>1</td>\n",
       "      <td>1</td>\n",
       "      <td>2022-02-10 14:30:00</td>\n",
       "      <td>1</td>\n",
       "      <td>79.99</td>\n",
       "    </tr>\n",
       "    <tr>\n",
       "      <th>1</th>\n",
       "      <td>2</td>\n",
       "      <td>2</td>\n",
       "      <td>3</td>\n",
       "      <td>2022-02-15 10:15:00</td>\n",
       "      <td>2</td>\n",
       "      <td>39.98</td>\n",
       "    </tr>\n",
       "    <tr>\n",
       "      <th>2</th>\n",
       "      <td>3</td>\n",
       "      <td>3</td>\n",
       "      <td>5</td>\n",
       "      <td>2022-02-20 16:45:00</td>\n",
       "      <td>1</td>\n",
       "      <td>34.99</td>\n",
       "    </tr>\n",
       "    <tr>\n",
       "      <th>3</th>\n",
       "      <td>4</td>\n",
       "      <td>4</td>\n",
       "      <td>2</td>\n",
       "      <td>2022-02-25 11:20:00</td>\n",
       "      <td>3</td>\n",
       "      <td>74.97</td>\n",
       "    </tr>\n",
       "    <tr>\n",
       "      <th>4</th>\n",
       "      <td>5</td>\n",
       "      <td>5</td>\n",
       "      <td>4</td>\n",
       "      <td>2022-03-01 13:10:00</td>\n",
       "      <td>1</td>\n",
       "      <td>89.99</td>\n",
       "    </tr>\n",
       "    <tr>\n",
       "      <th>...</th>\n",
       "      <td>...</td>\n",
       "      <td>...</td>\n",
       "      <td>...</td>\n",
       "      <td>...</td>\n",
       "      <td>...</td>\n",
       "      <td>...</td>\n",
       "    </tr>\n",
       "    <tr>\n",
       "      <th>145</th>\n",
       "      <td>146</td>\n",
       "      <td>86</td>\n",
       "      <td>30</td>\n",
       "      <td>2024-02-15 15:20:00</td>\n",
       "      <td>1</td>\n",
       "      <td>34.99</td>\n",
       "    </tr>\n",
       "    <tr>\n",
       "      <th>146</th>\n",
       "      <td>147</td>\n",
       "      <td>87</td>\n",
       "      <td>32</td>\n",
       "      <td>2024-02-20 11:30:00</td>\n",
       "      <td>3</td>\n",
       "      <td>83.97</td>\n",
       "    </tr>\n",
       "    <tr>\n",
       "      <th>147</th>\n",
       "      <td>148</td>\n",
       "      <td>88</td>\n",
       "      <td>34</td>\n",
       "      <td>2024-02-25 13:45:00</td>\n",
       "      <td>2</td>\n",
       "      <td>109.98</td>\n",
       "    </tr>\n",
       "    <tr>\n",
       "      <th>148</th>\n",
       "      <td>149</td>\n",
       "      <td>89</td>\n",
       "      <td>36</td>\n",
       "      <td>2024-03-01 16:15:00</td>\n",
       "      <td>1</td>\n",
       "      <td>29.99</td>\n",
       "    </tr>\n",
       "    <tr>\n",
       "      <th>149</th>\n",
       "      <td>150</td>\n",
       "      <td>90</td>\n",
       "      <td>38</td>\n",
       "      <td>2024-03-05 10:30:00</td>\n",
       "      <td>4</td>\n",
       "      <td>139.96</td>\n",
       "    </tr>\n",
       "  </tbody>\n",
       "</table>\n",
       "<p>150 rows × 6 columns</p>\n",
       "</div>"
      ],
      "text/plain": [
       "     sale_id  customer_id  product_id     transaction_date  quantity  \\\n",
       "0          1            1           1  2022-02-10 14:30:00         1   \n",
       "1          2            2           3  2022-02-15 10:15:00         2   \n",
       "2          3            3           5  2022-02-20 16:45:00         1   \n",
       "3          4            4           2  2022-02-25 11:20:00         3   \n",
       "4          5            5           4  2022-03-01 13:10:00         1   \n",
       "..       ...          ...         ...                  ...       ...   \n",
       "145      146           86          30  2024-02-15 15:20:00         1   \n",
       "146      147           87          32  2024-02-20 11:30:00         3   \n",
       "147      148           88          34  2024-02-25 13:45:00         2   \n",
       "148      149           89          36  2024-03-01 16:15:00         1   \n",
       "149      150           90          38  2024-03-05 10:30:00         4   \n",
       "\n",
       "     total_amount  \n",
       "0           79.99  \n",
       "1           39.98  \n",
       "2           34.99  \n",
       "3           74.97  \n",
       "4           89.99  \n",
       "..            ...  \n",
       "145         34.99  \n",
       "146         83.97  \n",
       "147        109.98  \n",
       "148         29.99  \n",
       "149        139.96  \n",
       "\n",
       "[150 rows x 6 columns]"
      ]
     },
     "execution_count": 16,
     "metadata": {},
     "output_type": "execute_result"
    }
   ],
   "source": [
    "customers['registration_date'] = pd.to_datetime(customers['registration_date'])\n",
    "sales"
   ]
  },
  {
   "cell_type": "code",
   "execution_count": 17,
   "id": "04806c43-fa43-4955-8adc-97ba84e9b4b8",
   "metadata": {},
   "outputs": [
    {
     "data": {
      "text/html": [
       "<div>\n",
       "<style scoped>\n",
       "    .dataframe tbody tr th:only-of-type {\n",
       "        vertical-align: middle;\n",
       "    }\n",
       "\n",
       "    .dataframe tbody tr th {\n",
       "        vertical-align: top;\n",
       "    }\n",
       "\n",
       "    .dataframe thead th {\n",
       "        text-align: right;\n",
       "    }\n",
       "</style>\n",
       "<table border=\"1\" class=\"dataframe\">\n",
       "  <thead>\n",
       "    <tr style=\"text-align: right;\">\n",
       "      <th></th>\n",
       "      <th>product_id</th>\n",
       "      <th>product_name</th>\n",
       "      <th>category</th>\n",
       "      <th>price</th>\n",
       "      <th>launch_date</th>\n",
       "      <th>brand</th>\n",
       "    </tr>\n",
       "  </thead>\n",
       "  <tbody>\n",
       "    <tr>\n",
       "      <th>0</th>\n",
       "      <td>1</td>\n",
       "      <td>Wireless Bluetooth Headphones</td>\n",
       "      <td>Electronics</td>\n",
       "      <td>79.99</td>\n",
       "      <td>2021-03-15</td>\n",
       "      <td>AudioTech</td>\n",
       "    </tr>\n",
       "    <tr>\n",
       "      <th>1</th>\n",
       "      <td>2</td>\n",
       "      <td>Organic Cotton T-Shirt</td>\n",
       "      <td>Clothing</td>\n",
       "      <td>24.99</td>\n",
       "      <td>2021-04-20</td>\n",
       "      <td>EcoWear</td>\n",
       "    </tr>\n",
       "    <tr>\n",
       "      <th>2</th>\n",
       "      <td>3</td>\n",
       "      <td>Stainless Steel Water Bottle</td>\n",
       "      <td>Home &amp; Garden</td>\n",
       "      <td>19.99</td>\n",
       "      <td>2021-05-10</td>\n",
       "      <td>HydroLife</td>\n",
       "    </tr>\n",
       "    <tr>\n",
       "      <th>3</th>\n",
       "      <td>4</td>\n",
       "      <td>Leather Crossbody Bag</td>\n",
       "      <td>Accessories</td>\n",
       "      <td>89.99</td>\n",
       "      <td>2021-06-01</td>\n",
       "      <td>StyleCraft</td>\n",
       "    </tr>\n",
       "    <tr>\n",
       "      <th>4</th>\n",
       "      <td>5</td>\n",
       "      <td>Yoga Mat Premium</td>\n",
       "      <td>Sports &amp; Outdoors</td>\n",
       "      <td>34.99</td>\n",
       "      <td>2021-06-15</td>\n",
       "      <td>FitZone</td>\n",
       "    </tr>\n",
       "  </tbody>\n",
       "</table>\n",
       "</div>"
      ],
      "text/plain": [
       "   product_id                   product_name           category  price  \\\n",
       "0           1  Wireless Bluetooth Headphones        Electronics  79.99   \n",
       "1           2         Organic Cotton T-Shirt           Clothing  24.99   \n",
       "2           3   Stainless Steel Water Bottle      Home & Garden  19.99   \n",
       "3           4          Leather Crossbody Bag        Accessories  89.99   \n",
       "4           5               Yoga Mat Premium  Sports & Outdoors  34.99   \n",
       "\n",
       "  launch_date       brand  \n",
       "0  2021-03-15   AudioTech  \n",
       "1  2021-04-20     EcoWear  \n",
       "2  2021-05-10   HydroLife  \n",
       "3  2021-06-01  StyleCraft  \n",
       "4  2021-06-15     FitZone  "
      ]
     },
     "execution_count": 17,
     "metadata": {},
     "output_type": "execute_result"
    }
   ],
   "source": [
    "sales['transaction_date'] = pd.to_datetime(sales['transaction_date'])\n",
    "products.head()"
   ]
  },
  {
   "cell_type": "code",
   "execution_count": 18,
   "id": "981fa78a-36b0-43c6-b03d-5bf009abee55",
   "metadata": {},
   "outputs": [
    {
     "name": "stdout",
     "output_type": "stream",
     "text": [
      "<class 'pandas.core.frame.DataFrame'>\n",
      "RangeIndex: 60 entries, 0 to 59\n",
      "Data columns (total 6 columns):\n",
      " #   Column        Non-Null Count  Dtype         \n",
      "---  ------        --------------  -----         \n",
      " 0   product_id    60 non-null     int64         \n",
      " 1   product_name  60 non-null     object        \n",
      " 2   category      60 non-null     object        \n",
      " 3   price         60 non-null     float64       \n",
      " 4   launch_date   60 non-null     datetime64[ns]\n",
      " 5   brand         60 non-null     object        \n",
      "dtypes: datetime64[ns](1), float64(1), int64(1), object(3)\n",
      "memory usage: 2.9+ KB\n"
     ]
    }
   ],
   "source": [
    "products['launch_date'] = pd.to_datetime(products['launch_date'])\n",
    "products.info()"
   ]
  },
  {
   "cell_type": "code",
   "execution_count": 19,
   "id": "b865cd87-780b-4a77-8529-f75975ecef7d",
   "metadata": {},
   "outputs": [
    {
     "data": {
      "text/html": [
       "<div>\n",
       "<style scoped>\n",
       "    .dataframe tbody tr th:only-of-type {\n",
       "        vertical-align: middle;\n",
       "    }\n",
       "\n",
       "    .dataframe tbody tr th {\n",
       "        vertical-align: top;\n",
       "    }\n",
       "\n",
       "    .dataframe thead th {\n",
       "        text-align: right;\n",
       "    }\n",
       "</style>\n",
       "<table border=\"1\" class=\"dataframe\">\n",
       "  <thead>\n",
       "    <tr style=\"text-align: right;\">\n",
       "      <th></th>\n",
       "      <th>sale_id</th>\n",
       "      <th>customer_id</th>\n",
       "      <th>product_id</th>\n",
       "      <th>transaction_date</th>\n",
       "      <th>quantity</th>\n",
       "      <th>total_amount</th>\n",
       "      <th>sales_year</th>\n",
       "      <th>sales_month</th>\n",
       "      <th>sales_day_of_week</th>\n",
       "    </tr>\n",
       "  </thead>\n",
       "  <tbody>\n",
       "    <tr>\n",
       "      <th>0</th>\n",
       "      <td>1</td>\n",
       "      <td>1</td>\n",
       "      <td>1</td>\n",
       "      <td>2022-02-10 14:30:00</td>\n",
       "      <td>1</td>\n",
       "      <td>79.99</td>\n",
       "      <td>2022</td>\n",
       "      <td>2</td>\n",
       "      <td>3</td>\n",
       "    </tr>\n",
       "    <tr>\n",
       "      <th>1</th>\n",
       "      <td>2</td>\n",
       "      <td>2</td>\n",
       "      <td>3</td>\n",
       "      <td>2022-02-15 10:15:00</td>\n",
       "      <td>2</td>\n",
       "      <td>39.98</td>\n",
       "      <td>2022</td>\n",
       "      <td>2</td>\n",
       "      <td>1</td>\n",
       "    </tr>\n",
       "    <tr>\n",
       "      <th>2</th>\n",
       "      <td>3</td>\n",
       "      <td>3</td>\n",
       "      <td>5</td>\n",
       "      <td>2022-02-20 16:45:00</td>\n",
       "      <td>1</td>\n",
       "      <td>34.99</td>\n",
       "      <td>2022</td>\n",
       "      <td>2</td>\n",
       "      <td>6</td>\n",
       "    </tr>\n",
       "    <tr>\n",
       "      <th>3</th>\n",
       "      <td>4</td>\n",
       "      <td>4</td>\n",
       "      <td>2</td>\n",
       "      <td>2022-02-25 11:20:00</td>\n",
       "      <td>3</td>\n",
       "      <td>74.97</td>\n",
       "      <td>2022</td>\n",
       "      <td>2</td>\n",
       "      <td>4</td>\n",
       "    </tr>\n",
       "    <tr>\n",
       "      <th>4</th>\n",
       "      <td>5</td>\n",
       "      <td>5</td>\n",
       "      <td>4</td>\n",
       "      <td>2022-03-01 13:10:00</td>\n",
       "      <td>1</td>\n",
       "      <td>89.99</td>\n",
       "      <td>2022</td>\n",
       "      <td>3</td>\n",
       "      <td>1</td>\n",
       "    </tr>\n",
       "  </tbody>\n",
       "</table>\n",
       "</div>"
      ],
      "text/plain": [
       "   sale_id  customer_id  product_id    transaction_date  quantity  \\\n",
       "0        1            1           1 2022-02-10 14:30:00         1   \n",
       "1        2            2           3 2022-02-15 10:15:00         2   \n",
       "2        3            3           5 2022-02-20 16:45:00         1   \n",
       "3        4            4           2 2022-02-25 11:20:00         3   \n",
       "4        5            5           4 2022-03-01 13:10:00         1   \n",
       "\n",
       "   total_amount  sales_year  sales_month  sales_day_of_week  \n",
       "0         79.99        2022            2                  3  \n",
       "1         39.98        2022            2                  1  \n",
       "2         34.99        2022            2                  6  \n",
       "3         74.97        2022            2                  4  \n",
       "4         89.99        2022            3                  1  "
      ]
     },
     "execution_count": 19,
     "metadata": {},
     "output_type": "execute_result"
    }
   ],
   "source": [
    "sales['sales_year'] = sales['transaction_date'].dt.year\n",
    "sales['sales_month'] = sales['transaction_date'].dt.month\n",
    "sales['sales_day_of_week'] = sales['transaction_date'].dt.dayofweek\n",
    "sales.head()"
   ]
  },
  {
   "cell_type": "code",
   "execution_count": 20,
   "id": "83aced71-5975-4949-a239-33676e9486f0",
   "metadata": {},
   "outputs": [
    {
     "data": {
      "text/plain": [
       "Timestamp('2022-02-10 14:30:00')"
      ]
     },
     "execution_count": 20,
     "metadata": {},
     "output_type": "execute_result"
    }
   ],
   "source": [
    "sales['transaction_date'].min()"
   ]
  },
  {
   "cell_type": "code",
   "execution_count": 21,
   "id": "bef12dcf-1332-48a0-b24e-abb149296392",
   "metadata": {},
   "outputs": [
    {
     "name": "stderr",
     "output_type": "stream",
     "text": [
      "C:\\Users\\cmcda\\AppData\\Local\\Temp\\ipykernel_23428\\1455432116.py:1: FutureWarning: The provided callable <built-in function max> is currently using Series.max. In a future version of pandas, the provided callable will be used directly. To keep current behavior pass the string \"max\" instead.\n",
      "  sales['transaction_date'].agg([max, min])\n",
      "C:\\Users\\cmcda\\AppData\\Local\\Temp\\ipykernel_23428\\1455432116.py:1: FutureWarning: The provided callable <built-in function min> is currently using Series.min. In a future version of pandas, the provided callable will be used directly. To keep current behavior pass the string \"min\" instead.\n",
      "  sales['transaction_date'].agg([max, min])\n"
     ]
    },
    {
     "data": {
      "text/plain": [
       "max   2024-03-05 10:30:00\n",
       "min   2022-02-10 14:30:00\n",
       "Name: transaction_date, dtype: datetime64[ns]"
      ]
     },
     "execution_count": 21,
     "metadata": {},
     "output_type": "execute_result"
    }
   ],
   "source": [
    "sales['transaction_date'].agg([max, min]) "
   ]
  },
  {
   "cell_type": "code",
   "execution_count": 22,
   "id": "2c28ed14-589c-4c6d-866b-e4e324f04903",
   "metadata": {},
   "outputs": [],
   "source": [
    "grouped = sales.groupby(['transaction_date', 'quantity'])"
   ]
  },
  {
   "cell_type": "code",
   "execution_count": 23,
   "id": "5d213fda-6f0f-4b77-949a-b1f5b3446894",
   "metadata": {},
   "outputs": [
    {
     "data": {
      "text/html": [
       "<div>\n",
       "<style scoped>\n",
       "    .dataframe tbody tr th:only-of-type {\n",
       "        vertical-align: middle;\n",
       "    }\n",
       "\n",
       "    .dataframe tbody tr th {\n",
       "        vertical-align: top;\n",
       "    }\n",
       "\n",
       "    .dataframe thead th {\n",
       "        text-align: right;\n",
       "    }\n",
       "</style>\n",
       "<table border=\"1\" class=\"dataframe\">\n",
       "  <thead>\n",
       "    <tr style=\"text-align: right;\">\n",
       "      <th></th>\n",
       "      <th>sum</th>\n",
       "      <th>max</th>\n",
       "      <th>count</th>\n",
       "    </tr>\n",
       "    <tr>\n",
       "      <th>transaction_date</th>\n",
       "      <th></th>\n",
       "      <th></th>\n",
       "      <th></th>\n",
       "    </tr>\n",
       "  </thead>\n",
       "  <tbody>\n",
       "    <tr>\n",
       "      <th>2022-02-10 14:30:00</th>\n",
       "      <td>1</td>\n",
       "      <td>1</td>\n",
       "      <td>1</td>\n",
       "    </tr>\n",
       "    <tr>\n",
       "      <th>2022-02-15 10:15:00</th>\n",
       "      <td>2</td>\n",
       "      <td>2</td>\n",
       "      <td>1</td>\n",
       "    </tr>\n",
       "    <tr>\n",
       "      <th>2022-02-20 16:45:00</th>\n",
       "      <td>1</td>\n",
       "      <td>1</td>\n",
       "      <td>1</td>\n",
       "    </tr>\n",
       "    <tr>\n",
       "      <th>2022-02-25 11:20:00</th>\n",
       "      <td>3</td>\n",
       "      <td>3</td>\n",
       "      <td>1</td>\n",
       "    </tr>\n",
       "    <tr>\n",
       "      <th>2022-03-01 13:10:00</th>\n",
       "      <td>1</td>\n",
       "      <td>1</td>\n",
       "      <td>1</td>\n",
       "    </tr>\n",
       "    <tr>\n",
       "      <th>...</th>\n",
       "      <td>...</td>\n",
       "      <td>...</td>\n",
       "      <td>...</td>\n",
       "    </tr>\n",
       "    <tr>\n",
       "      <th>2024-02-15 15:20:00</th>\n",
       "      <td>1</td>\n",
       "      <td>1</td>\n",
       "      <td>1</td>\n",
       "    </tr>\n",
       "    <tr>\n",
       "      <th>2024-02-20 11:30:00</th>\n",
       "      <td>3</td>\n",
       "      <td>3</td>\n",
       "      <td>1</td>\n",
       "    </tr>\n",
       "    <tr>\n",
       "      <th>2024-02-25 13:45:00</th>\n",
       "      <td>2</td>\n",
       "      <td>2</td>\n",
       "      <td>1</td>\n",
       "    </tr>\n",
       "    <tr>\n",
       "      <th>2024-03-01 16:15:00</th>\n",
       "      <td>1</td>\n",
       "      <td>1</td>\n",
       "      <td>1</td>\n",
       "    </tr>\n",
       "    <tr>\n",
       "      <th>2024-03-05 10:30:00</th>\n",
       "      <td>4</td>\n",
       "      <td>4</td>\n",
       "      <td>1</td>\n",
       "    </tr>\n",
       "  </tbody>\n",
       "</table>\n",
       "<p>150 rows × 3 columns</p>\n",
       "</div>"
      ],
      "text/plain": [
       "                     sum  max  count\n",
       "transaction_date                    \n",
       "2022-02-10 14:30:00    1    1      1\n",
       "2022-02-15 10:15:00    2    2      1\n",
       "2022-02-20 16:45:00    1    1      1\n",
       "2022-02-25 11:20:00    3    3      1\n",
       "2022-03-01 13:10:00    1    1      1\n",
       "...                  ...  ...    ...\n",
       "2024-02-15 15:20:00    1    1      1\n",
       "2024-02-20 11:30:00    3    3      1\n",
       "2024-02-25 13:45:00    2    2      1\n",
       "2024-03-01 16:15:00    1    1      1\n",
       "2024-03-05 10:30:00    4    4      1\n",
       "\n",
       "[150 rows x 3 columns]"
      ]
     },
     "execution_count": 23,
     "metadata": {},
     "output_type": "execute_result"
    }
   ],
   "source": [
    "sales.groupby('transaction_date')['quantity'].agg(['sum', 'max', 'count'])"
   ]
  },
  {
   "cell_type": "code",
   "execution_count": 24,
   "id": "e3afce14-413f-4acb-8d8b-4c7374d1efc4",
   "metadata": {},
   "outputs": [
    {
     "data": {
      "text/plain": [
       "sales_day_of_week\n",
       "4    24\n",
       "Name: count, dtype: int64"
      ]
     },
     "execution_count": 24,
     "metadata": {},
     "output_type": "execute_result"
    }
   ],
   "source": [
    "sales['sales_day_of_week'].value_counts().head(1)"
   ]
  },
  {
   "cell_type": "code",
   "execution_count": 25,
   "id": "8dedb1a5-2253-4a4d-82c6-edf7731690f0",
   "metadata": {},
   "outputs": [
    {
     "data": {
      "text/plain": [
       "sales_month\n",
       "2    16\n",
       "Name: count, dtype: int64"
      ]
     },
     "execution_count": 25,
     "metadata": {},
     "output_type": "execute_result"
    }
   ],
   "source": [
    "sales['sales_month'].value_counts().head(1)"
   ]
  },
  {
   "cell_type": "code",
   "execution_count": 26,
   "id": "0794ba19-7c43-4002-a2b1-0ea4aa14ecf7",
   "metadata": {},
   "outputs": [
    {
     "data": {
      "text/plain": [
       "sales_year\n",
       "2022    65\n",
       "2023    72\n",
       "2024    13\n",
       "Name: count, dtype: int64"
      ]
     },
     "execution_count": 26,
     "metadata": {},
     "output_type": "execute_result"
    }
   ],
   "source": [
    "sales['sales_year'].value_counts().sort_index()"
   ]
  },
  {
   "cell_type": "code",
   "execution_count": 27,
   "id": "2c41296a-eb66-42f8-8bc9-73c78575a7e0",
   "metadata": {},
   "outputs": [],
   "source": [
    "grouped = products.groupby(['category', 'price'])"
   ]
  },
  {
   "cell_type": "code",
   "execution_count": 28,
   "id": "9db2838a-ab89-467d-a994-93d97474eea6",
   "metadata": {},
   "outputs": [
    {
     "data": {
      "text/plain": [
       "category\n",
       "Accessories           35.073333\n",
       "Clothing              52.240000\n",
       "Electronics           59.990000\n",
       "Home & Garden         30.156667\n",
       "Sports & Outdoors    105.899091\n",
       "Name: price, dtype: float64"
      ]
     },
     "execution_count": 28,
     "metadata": {},
     "output_type": "execute_result"
    }
   ],
   "source": [
    "products.groupby('category')['price'].mean()"
   ]
  },
  {
   "cell_type": "code",
   "execution_count": 29,
   "id": "f2846e93-6fe9-4ee1-a4c3-aa9b0bbac9ea",
   "metadata": {},
   "outputs": [
    {
     "data": {
      "text/plain": [
       "category\n",
       "Accessories           89.99\n",
       "Clothing              99.99\n",
       "Electronics          149.99\n",
       "Home & Garden         49.99\n",
       "Sports & Outdoors    249.99\n",
       "Name: price, dtype: float64"
      ]
     },
     "execution_count": 29,
     "metadata": {},
     "output_type": "execute_result"
    }
   ],
   "source": [
    "products.groupby('category')['price'].max()"
   ]
  },
  {
   "cell_type": "code",
   "execution_count": 30,
   "id": "210d0134-22f4-4ff4-8ec0-712c60dfc27a",
   "metadata": {},
   "outputs": [
    {
     "data": {
      "text/plain": [
       "category\n",
       "Accessories          12\n",
       "Clothing             12\n",
       "Electronics          13\n",
       "Home & Garden        12\n",
       "Sports & Outdoors    11\n",
       "Name: price, dtype: int64"
      ]
     },
     "execution_count": 30,
     "metadata": {},
     "output_type": "execute_result"
    }
   ],
   "source": [
    "products.groupby('category')['price'].count()"
   ]
  },
  {
   "cell_type": "code",
   "execution_count": 31,
   "id": "52a0797c-4f40-470f-aeec-b81462cf3619",
   "metadata": {},
   "outputs": [],
   "source": [
    "grouped = customers.groupby(['state', 'age'])"
   ]
  },
  {
   "cell_type": "code",
   "execution_count": 32,
   "id": "210b00fd-6d8d-44e6-86d6-faaa676536b5",
   "metadata": {},
   "outputs": [
    {
     "data": {
      "text/plain": [
       "state\n",
       "CA    34.1\n",
       "FL    39.0\n",
       "IL    37.2\n",
       "NY    36.5\n",
       "TX    38.3\n",
       "Name: age, dtype: float64"
      ]
     },
     "execution_count": 32,
     "metadata": {},
     "output_type": "execute_result"
    }
   ],
   "source": [
    "customers.groupby('state')['age'].mean().round(1)"
   ]
  },
  {
   "cell_type": "code",
   "execution_count": 33,
   "id": "7abcd726-1f2c-4e34-a68b-09220025913e",
   "metadata": {},
   "outputs": [
    {
     "data": {
      "text/html": [
       "<div>\n",
       "<style scoped>\n",
       "    .dataframe tbody tr th:only-of-type {\n",
       "        vertical-align: middle;\n",
       "    }\n",
       "\n",
       "    .dataframe tbody tr th {\n",
       "        vertical-align: top;\n",
       "    }\n",
       "\n",
       "    .dataframe thead th {\n",
       "        text-align: right;\n",
       "    }\n",
       "</style>\n",
       "<table border=\"1\" class=\"dataframe\">\n",
       "  <thead>\n",
       "    <tr style=\"text-align: right;\">\n",
       "      <th></th>\n",
       "      <th>sale_id</th>\n",
       "      <th>customer_id</th>\n",
       "      <th>product_id</th>\n",
       "      <th>transaction_date</th>\n",
       "      <th>quantity</th>\n",
       "      <th>total_amount</th>\n",
       "      <th>sales_year</th>\n",
       "      <th>sales_month</th>\n",
       "      <th>sales_day_of_week</th>\n",
       "    </tr>\n",
       "  </thead>\n",
       "  <tbody>\n",
       "    <tr>\n",
       "      <th>0</th>\n",
       "      <td>1</td>\n",
       "      <td>1</td>\n",
       "      <td>1</td>\n",
       "      <td>2022-02-10 14:30:00</td>\n",
       "      <td>1</td>\n",
       "      <td>79.99</td>\n",
       "      <td>2022</td>\n",
       "      <td>2</td>\n",
       "      <td>3</td>\n",
       "    </tr>\n",
       "    <tr>\n",
       "      <th>1</th>\n",
       "      <td>2</td>\n",
       "      <td>2</td>\n",
       "      <td>3</td>\n",
       "      <td>2022-02-15 10:15:00</td>\n",
       "      <td>2</td>\n",
       "      <td>39.98</td>\n",
       "      <td>2022</td>\n",
       "      <td>2</td>\n",
       "      <td>1</td>\n",
       "    </tr>\n",
       "    <tr>\n",
       "      <th>2</th>\n",
       "      <td>3</td>\n",
       "      <td>3</td>\n",
       "      <td>5</td>\n",
       "      <td>2022-02-20 16:45:00</td>\n",
       "      <td>1</td>\n",
       "      <td>34.99</td>\n",
       "      <td>2022</td>\n",
       "      <td>2</td>\n",
       "      <td>6</td>\n",
       "    </tr>\n",
       "    <tr>\n",
       "      <th>3</th>\n",
       "      <td>4</td>\n",
       "      <td>4</td>\n",
       "      <td>2</td>\n",
       "      <td>2022-02-25 11:20:00</td>\n",
       "      <td>3</td>\n",
       "      <td>74.97</td>\n",
       "      <td>2022</td>\n",
       "      <td>2</td>\n",
       "      <td>4</td>\n",
       "    </tr>\n",
       "    <tr>\n",
       "      <th>4</th>\n",
       "      <td>5</td>\n",
       "      <td>5</td>\n",
       "      <td>4</td>\n",
       "      <td>2022-03-01 13:10:00</td>\n",
       "      <td>1</td>\n",
       "      <td>89.99</td>\n",
       "      <td>2022</td>\n",
       "      <td>3</td>\n",
       "      <td>1</td>\n",
       "    </tr>\n",
       "  </tbody>\n",
       "</table>\n",
       "</div>"
      ],
      "text/plain": [
       "   sale_id  customer_id  product_id    transaction_date  quantity  \\\n",
       "0        1            1           1 2022-02-10 14:30:00         1   \n",
       "1        2            2           3 2022-02-15 10:15:00         2   \n",
       "2        3            3           5 2022-02-20 16:45:00         1   \n",
       "3        4            4           2 2022-02-25 11:20:00         3   \n",
       "4        5            5           4 2022-03-01 13:10:00         1   \n",
       "\n",
       "   total_amount  sales_year  sales_month  sales_day_of_week  \n",
       "0         79.99        2022            2                  3  \n",
       "1         39.98        2022            2                  1  \n",
       "2         34.99        2022            2                  6  \n",
       "3         74.97        2022            2                  4  \n",
       "4         89.99        2022            3                  1  "
      ]
     },
     "execution_count": 33,
     "metadata": {},
     "output_type": "execute_result"
    }
   ],
   "source": [
    "grouped = sales.groupby(['customer_id', 'total_amount'])\n",
    "sales.head()"
   ]
  },
  {
   "cell_type": "code",
   "execution_count": 34,
   "id": "a88acdae-3f87-4fed-a297-26444683c926",
   "metadata": {},
   "outputs": [
    {
     "data": {
      "text/plain": [
       "customer_id\n",
       "1     229.98\n",
       "2     179.96\n",
       "3     154.98\n",
       "4     234.95\n",
       "5     149.98\n",
       "       ...  \n",
       "86     34.99\n",
       "87     83.97\n",
       "88    109.98\n",
       "89     29.99\n",
       "90    139.96\n",
       "Name: total_amount, Length: 90, dtype: float64"
      ]
     },
     "execution_count": 34,
     "metadata": {},
     "output_type": "execute_result"
    }
   ],
   "source": [
    "sales.groupby('customer_id')['total_amount'].sum()"
   ]
  },
  {
   "cell_type": "code",
   "execution_count": 35,
   "id": "5b6352f1-41fa-413b-a053-d8019ec1aeae",
   "metadata": {},
   "outputs": [
    {
     "data": {
      "text/plain": [
       "customer_id\n",
       "1     229.98\n",
       "2     179.96\n",
       "3     154.98\n",
       "4     234.95\n",
       "5     149.98\n",
       "       ...  \n",
       "86     34.99\n",
       "87     83.97\n",
       "88    109.98\n",
       "89     29.99\n",
       "90    139.96\n",
       "Name: total_amount, Length: 90, dtype: float64"
      ]
     },
     "execution_count": 35,
     "metadata": {},
     "output_type": "execute_result"
    }
   ],
   "source": [
    "sales.groupby('customer_id')['total_amount'].sum()"
   ]
  },
  {
   "cell_type": "code",
   "execution_count": 36,
   "id": "c0358fac-eab4-45b9-96b2-cddee2572f0b",
   "metadata": {},
   "outputs": [],
   "source": [
    "grouped = sales.groupby(['customer_id', 'sale_id'])"
   ]
  },
  {
   "cell_type": "code",
   "execution_count": 37,
   "id": "3bc90576-680f-405f-b7bc-301d8991d769",
   "metadata": {},
   "outputs": [
    {
     "data": {
      "text/plain": [
       "customer_id\n",
       "1    2\n",
       "2    2\n",
       "3    2\n",
       "4    2\n",
       "5    2\n",
       "Name: sale_id, dtype: int64"
      ]
     },
     "execution_count": 37,
     "metadata": {},
     "output_type": "execute_result"
    }
   ],
   "source": [
    "##3.2\n",
    "most_purchases = sales.groupby('customer_id')['sale_id'].count()\n",
    "most_purchases = most_purchases.sort_values(ascending=False).head()\n",
    "most_purchases"
   ]
  },
  {
   "cell_type": "code",
   "execution_count": 38,
   "id": "2e23ea3c-4662-4ff0-9b89-7bc6273f48d2",
   "metadata": {},
   "outputs": [
    {
     "data": {
      "text/html": [
       "<div>\n",
       "<style scoped>\n",
       "    .dataframe tbody tr th:only-of-type {\n",
       "        vertical-align: middle;\n",
       "    }\n",
       "\n",
       "    .dataframe tbody tr th {\n",
       "        vertical-align: top;\n",
       "    }\n",
       "\n",
       "    .dataframe thead th {\n",
       "        text-align: right;\n",
       "    }\n",
       "</style>\n",
       "<table border=\"1\" class=\"dataframe\">\n",
       "  <thead>\n",
       "    <tr style=\"text-align: right;\">\n",
       "      <th></th>\n",
       "      <th>sale_id</th>\n",
       "      <th>customer_id</th>\n",
       "      <th>product_id</th>\n",
       "      <th>transaction_date</th>\n",
       "      <th>quantity</th>\n",
       "      <th>total_amount</th>\n",
       "      <th>sales_year</th>\n",
       "      <th>sales_month</th>\n",
       "      <th>sales_day_of_week</th>\n",
       "    </tr>\n",
       "  </thead>\n",
       "  <tbody>\n",
       "    <tr>\n",
       "      <th>0</th>\n",
       "      <td>1</td>\n",
       "      <td>1</td>\n",
       "      <td>1</td>\n",
       "      <td>2022-02-10 14:30:00</td>\n",
       "      <td>1</td>\n",
       "      <td>79.99</td>\n",
       "      <td>2022</td>\n",
       "      <td>2</td>\n",
       "      <td>3</td>\n",
       "    </tr>\n",
       "    <tr>\n",
       "      <th>1</th>\n",
       "      <td>2</td>\n",
       "      <td>2</td>\n",
       "      <td>3</td>\n",
       "      <td>2022-02-15 10:15:00</td>\n",
       "      <td>2</td>\n",
       "      <td>39.98</td>\n",
       "      <td>2022</td>\n",
       "      <td>2</td>\n",
       "      <td>1</td>\n",
       "    </tr>\n",
       "    <tr>\n",
       "      <th>2</th>\n",
       "      <td>3</td>\n",
       "      <td>3</td>\n",
       "      <td>5</td>\n",
       "      <td>2022-02-20 16:45:00</td>\n",
       "      <td>1</td>\n",
       "      <td>34.99</td>\n",
       "      <td>2022</td>\n",
       "      <td>2</td>\n",
       "      <td>6</td>\n",
       "    </tr>\n",
       "    <tr>\n",
       "      <th>3</th>\n",
       "      <td>4</td>\n",
       "      <td>4</td>\n",
       "      <td>2</td>\n",
       "      <td>2022-02-25 11:20:00</td>\n",
       "      <td>3</td>\n",
       "      <td>74.97</td>\n",
       "      <td>2022</td>\n",
       "      <td>2</td>\n",
       "      <td>4</td>\n",
       "    </tr>\n",
       "    <tr>\n",
       "      <th>4</th>\n",
       "      <td>5</td>\n",
       "      <td>5</td>\n",
       "      <td>4</td>\n",
       "      <td>2022-03-01 13:10:00</td>\n",
       "      <td>1</td>\n",
       "      <td>89.99</td>\n",
       "      <td>2022</td>\n",
       "      <td>3</td>\n",
       "      <td>1</td>\n",
       "    </tr>\n",
       "  </tbody>\n",
       "</table>\n",
       "</div>"
      ],
      "text/plain": [
       "   sale_id  customer_id  product_id    transaction_date  quantity  \\\n",
       "0        1            1           1 2022-02-10 14:30:00         1   \n",
       "1        2            2           3 2022-02-15 10:15:00         2   \n",
       "2        3            3           5 2022-02-20 16:45:00         1   \n",
       "3        4            4           2 2022-02-25 11:20:00         3   \n",
       "4        5            5           4 2022-03-01 13:10:00         1   \n",
       "\n",
       "   total_amount  sales_year  sales_month  sales_day_of_week  \n",
       "0         79.99        2022            2                  3  \n",
       "1         39.98        2022            2                  1  \n",
       "2         34.99        2022            2                  6  \n",
       "3         74.97        2022            2                  4  \n",
       "4         89.99        2022            3                  1  "
      ]
     },
     "execution_count": 38,
     "metadata": {},
     "output_type": "execute_result"
    }
   ],
   "source": [
    "sales.groupby('customer_id').size().sort_values(ascending=False).head(3)\n",
    "sales.head()"
   ]
  },
  {
   "cell_type": "code",
   "execution_count": 39,
   "id": "ec0095ef-e475-44f3-8cd8-fb187c4c2766",
   "metadata": {},
   "outputs": [
    {
     "data": {
      "text/plain": [
       "transaction_date\n",
       "2022-02    229.93\n",
       "2022-03    504.92\n",
       "2022-04    415.90\n",
       "2022-05    450.90\n",
       "2022-06    502.84\n",
       "2022-07    485.90\n",
       "2022-08    376.87\n",
       "2022-09    660.90\n",
       "2022-10    493.90\n",
       "2022-11    481.89\n",
       "2022-12    730.85\n",
       "2023-01    384.91\n",
       "2023-02    750.87\n",
       "2023-03    440.90\n",
       "2023-04    508.87\n",
       "2023-05    726.89\n",
       "2023-06    483.84\n",
       "2023-07    444.90\n",
       "2023-08    493.87\n",
       "2023-09    489.86\n",
       "2023-10    741.90\n",
       "2023-11    540.87\n",
       "2023-12    727.86\n",
       "2024-01    479.88\n",
       "2024-02    688.86\n",
       "2024-03    169.95\n",
       "Freq: M, Name: total_amount, dtype: float64"
      ]
     },
     "execution_count": 39,
     "metadata": {},
     "output_type": "execute_result"
    }
   ],
   "source": [
    "monthly_sales = sales.groupby(sales['transaction_date'].dt.to_period('M'))['total_amount'].sum()\n",
    "monthly_sales"
   ]
  },
  {
   "cell_type": "code",
   "execution_count": 40,
   "id": "d85dd6e8-f9c3-400a-ac00-60ac2af2ca70",
   "metadata": {},
   "outputs": [
    {
     "data": {
      "text/plain": [
       "transaction_date\n",
       "0     90.927500\n",
       "1     74.028636\n",
       "2     96.071905\n",
       "3    102.267619\n",
       "4    100.940833\n",
       "5     61.121905\n",
       "6     99.551429\n",
       "Name: total_amount, dtype: float64"
      ]
     },
     "execution_count": 40,
     "metadata": {},
     "output_type": "execute_result"
    }
   ],
   "source": [
    "#2.3.2 and 3.3?\n",
    "daily_sales = sales.groupby(sales['transaction_date'].dt.dayofweek)['total_amount'].mean()\n",
    "daily_sales"
   ]
  },
  {
   "cell_type": "code",
   "execution_count": 41,
   "id": "9bb81c48-07b1-4135-b01a-e06cc9acab39",
   "metadata": {},
   "outputs": [
    {
     "data": {
      "text/html": [
       "<div>\n",
       "<style scoped>\n",
       "    .dataframe tbody tr th:only-of-type {\n",
       "        vertical-align: middle;\n",
       "    }\n",
       "\n",
       "    .dataframe tbody tr th {\n",
       "        vertical-align: top;\n",
       "    }\n",
       "\n",
       "    .dataframe thead th {\n",
       "        text-align: right;\n",
       "    }\n",
       "</style>\n",
       "<table border=\"1\" class=\"dataframe\">\n",
       "  <thead>\n",
       "    <tr style=\"text-align: right;\">\n",
       "      <th></th>\n",
       "      <th>sale_id</th>\n",
       "      <th>customer_id</th>\n",
       "      <th>product_id</th>\n",
       "      <th>transaction_date</th>\n",
       "      <th>quantity</th>\n",
       "      <th>total_amount</th>\n",
       "      <th>sales_year</th>\n",
       "      <th>sales_month</th>\n",
       "      <th>sales_day_of_week</th>\n",
       "    </tr>\n",
       "  </thead>\n",
       "  <tbody>\n",
       "    <tr>\n",
       "      <th>0</th>\n",
       "      <td>1</td>\n",
       "      <td>1</td>\n",
       "      <td>1</td>\n",
       "      <td>2022-02-10 14:30:00</td>\n",
       "      <td>1</td>\n",
       "      <td>79.99</td>\n",
       "      <td>2022</td>\n",
       "      <td>2</td>\n",
       "      <td>3</td>\n",
       "    </tr>\n",
       "    <tr>\n",
       "      <th>1</th>\n",
       "      <td>2</td>\n",
       "      <td>2</td>\n",
       "      <td>3</td>\n",
       "      <td>2022-02-15 10:15:00</td>\n",
       "      <td>2</td>\n",
       "      <td>39.98</td>\n",
       "      <td>2022</td>\n",
       "      <td>2</td>\n",
       "      <td>1</td>\n",
       "    </tr>\n",
       "    <tr>\n",
       "      <th>2</th>\n",
       "      <td>3</td>\n",
       "      <td>3</td>\n",
       "      <td>5</td>\n",
       "      <td>2022-02-20 16:45:00</td>\n",
       "      <td>1</td>\n",
       "      <td>34.99</td>\n",
       "      <td>2022</td>\n",
       "      <td>2</td>\n",
       "      <td>6</td>\n",
       "    </tr>\n",
       "    <tr>\n",
       "      <th>3</th>\n",
       "      <td>4</td>\n",
       "      <td>4</td>\n",
       "      <td>2</td>\n",
       "      <td>2022-02-25 11:20:00</td>\n",
       "      <td>3</td>\n",
       "      <td>74.97</td>\n",
       "      <td>2022</td>\n",
       "      <td>2</td>\n",
       "      <td>4</td>\n",
       "    </tr>\n",
       "    <tr>\n",
       "      <th>4</th>\n",
       "      <td>5</td>\n",
       "      <td>5</td>\n",
       "      <td>4</td>\n",
       "      <td>2022-03-01 13:10:00</td>\n",
       "      <td>1</td>\n",
       "      <td>89.99</td>\n",
       "      <td>2022</td>\n",
       "      <td>3</td>\n",
       "      <td>1</td>\n",
       "    </tr>\n",
       "  </tbody>\n",
       "</table>\n",
       "</div>"
      ],
      "text/plain": [
       "   sale_id  customer_id  product_id    transaction_date  quantity  \\\n",
       "0        1            1           1 2022-02-10 14:30:00         1   \n",
       "1        2            2           3 2022-02-15 10:15:00         2   \n",
       "2        3            3           5 2022-02-20 16:45:00         1   \n",
       "3        4            4           2 2022-02-25 11:20:00         3   \n",
       "4        5            5           4 2022-03-01 13:10:00         1   \n",
       "\n",
       "   total_amount  sales_year  sales_month  sales_day_of_week  \n",
       "0         79.99        2022            2                  3  \n",
       "1         39.98        2022            2                  1  \n",
       "2         34.99        2022            2                  6  \n",
       "3         74.97        2022            2                  4  \n",
       "4         89.99        2022            3                  1  "
      ]
     },
     "execution_count": 41,
     "metadata": {},
     "output_type": "execute_result"
    }
   ],
   "source": [
    "sales.head()"
   ]
  },
  {
   "cell_type": "code",
   "execution_count": 42,
   "id": "3e6ae17e-0d9c-46cb-b61b-f43bfc450950",
   "metadata": {},
   "outputs": [
    {
     "data": {
      "text/plain": [
       "category\n",
       "Accessories          2053.25\n",
       "Clothing             2745.39\n",
       "Electronics          3524.29\n",
       "Home & Garden        1541.46\n",
       "Sports & Outdoors    3544.64\n",
       "Name: total_amount, dtype: float64"
      ]
     },
     "execution_count": 42,
     "metadata": {},
     "output_type": "execute_result"
    }
   ],
   "source": [
    "merged = pd.merge(sales, products, on = 'product_id')\n",
    "revenue = merged.groupby('category')['total_amount'].sum()\n",
    "revenue"
   ]
  },
  {
   "cell_type": "code",
   "execution_count": 43,
   "id": "892a25c3-7324-4611-bf58-b0f714961a60",
   "metadata": {},
   "outputs": [
    {
     "data": {
      "text/html": [
       "<div>\n",
       "<style scoped>\n",
       "    .dataframe tbody tr th:only-of-type {\n",
       "        vertical-align: middle;\n",
       "    }\n",
       "\n",
       "    .dataframe tbody tr th {\n",
       "        vertical-align: top;\n",
       "    }\n",
       "\n",
       "    .dataframe thead th {\n",
       "        text-align: right;\n",
       "    }\n",
       "</style>\n",
       "<table border=\"1\" class=\"dataframe\">\n",
       "  <thead>\n",
       "    <tr style=\"text-align: right;\">\n",
       "      <th></th>\n",
       "      <th>sale_id</th>\n",
       "      <th>customer_id</th>\n",
       "      <th>product_id</th>\n",
       "      <th>transaction_date</th>\n",
       "      <th>quantity</th>\n",
       "      <th>total_amount</th>\n",
       "      <th>sales_year</th>\n",
       "      <th>sales_month</th>\n",
       "      <th>sales_day_of_week</th>\n",
       "    </tr>\n",
       "  </thead>\n",
       "  <tbody>\n",
       "    <tr>\n",
       "      <th>0</th>\n",
       "      <td>1</td>\n",
       "      <td>1</td>\n",
       "      <td>1</td>\n",
       "      <td>2022-02-10 14:30:00</td>\n",
       "      <td>1</td>\n",
       "      <td>79.99</td>\n",
       "      <td>2022</td>\n",
       "      <td>2</td>\n",
       "      <td>3</td>\n",
       "    </tr>\n",
       "    <tr>\n",
       "      <th>1</th>\n",
       "      <td>2</td>\n",
       "      <td>2</td>\n",
       "      <td>3</td>\n",
       "      <td>2022-02-15 10:15:00</td>\n",
       "      <td>2</td>\n",
       "      <td>39.98</td>\n",
       "      <td>2022</td>\n",
       "      <td>2</td>\n",
       "      <td>1</td>\n",
       "    </tr>\n",
       "    <tr>\n",
       "      <th>2</th>\n",
       "      <td>3</td>\n",
       "      <td>3</td>\n",
       "      <td>5</td>\n",
       "      <td>2022-02-20 16:45:00</td>\n",
       "      <td>1</td>\n",
       "      <td>34.99</td>\n",
       "      <td>2022</td>\n",
       "      <td>2</td>\n",
       "      <td>6</td>\n",
       "    </tr>\n",
       "    <tr>\n",
       "      <th>3</th>\n",
       "      <td>4</td>\n",
       "      <td>4</td>\n",
       "      <td>2</td>\n",
       "      <td>2022-02-25 11:20:00</td>\n",
       "      <td>3</td>\n",
       "      <td>74.97</td>\n",
       "      <td>2022</td>\n",
       "      <td>2</td>\n",
       "      <td>4</td>\n",
       "    </tr>\n",
       "    <tr>\n",
       "      <th>4</th>\n",
       "      <td>5</td>\n",
       "      <td>5</td>\n",
       "      <td>4</td>\n",
       "      <td>2022-03-01 13:10:00</td>\n",
       "      <td>1</td>\n",
       "      <td>89.99</td>\n",
       "      <td>2022</td>\n",
       "      <td>3</td>\n",
       "      <td>1</td>\n",
       "    </tr>\n",
       "    <tr>\n",
       "      <th>...</th>\n",
       "      <td>...</td>\n",
       "      <td>...</td>\n",
       "      <td>...</td>\n",
       "      <td>...</td>\n",
       "      <td>...</td>\n",
       "      <td>...</td>\n",
       "      <td>...</td>\n",
       "      <td>...</td>\n",
       "      <td>...</td>\n",
       "    </tr>\n",
       "    <tr>\n",
       "      <th>145</th>\n",
       "      <td>146</td>\n",
       "      <td>86</td>\n",
       "      <td>30</td>\n",
       "      <td>2024-02-15 15:20:00</td>\n",
       "      <td>1</td>\n",
       "      <td>34.99</td>\n",
       "      <td>2024</td>\n",
       "      <td>2</td>\n",
       "      <td>3</td>\n",
       "    </tr>\n",
       "    <tr>\n",
       "      <th>146</th>\n",
       "      <td>147</td>\n",
       "      <td>87</td>\n",
       "      <td>32</td>\n",
       "      <td>2024-02-20 11:30:00</td>\n",
       "      <td>3</td>\n",
       "      <td>83.97</td>\n",
       "      <td>2024</td>\n",
       "      <td>2</td>\n",
       "      <td>1</td>\n",
       "    </tr>\n",
       "    <tr>\n",
       "      <th>147</th>\n",
       "      <td>148</td>\n",
       "      <td>88</td>\n",
       "      <td>34</td>\n",
       "      <td>2024-02-25 13:45:00</td>\n",
       "      <td>2</td>\n",
       "      <td>109.98</td>\n",
       "      <td>2024</td>\n",
       "      <td>2</td>\n",
       "      <td>6</td>\n",
       "    </tr>\n",
       "    <tr>\n",
       "      <th>148</th>\n",
       "      <td>149</td>\n",
       "      <td>89</td>\n",
       "      <td>36</td>\n",
       "      <td>2024-03-01 16:15:00</td>\n",
       "      <td>1</td>\n",
       "      <td>29.99</td>\n",
       "      <td>2024</td>\n",
       "      <td>3</td>\n",
       "      <td>4</td>\n",
       "    </tr>\n",
       "    <tr>\n",
       "      <th>149</th>\n",
       "      <td>150</td>\n",
       "      <td>90</td>\n",
       "      <td>38</td>\n",
       "      <td>2024-03-05 10:30:00</td>\n",
       "      <td>4</td>\n",
       "      <td>139.96</td>\n",
       "      <td>2024</td>\n",
       "      <td>3</td>\n",
       "      <td>1</td>\n",
       "    </tr>\n",
       "  </tbody>\n",
       "</table>\n",
       "<p>150 rows × 9 columns</p>\n",
       "</div>"
      ],
      "text/plain": [
       "     sale_id  customer_id  product_id    transaction_date  quantity  \\\n",
       "0          1            1           1 2022-02-10 14:30:00         1   \n",
       "1          2            2           3 2022-02-15 10:15:00         2   \n",
       "2          3            3           5 2022-02-20 16:45:00         1   \n",
       "3          4            4           2 2022-02-25 11:20:00         3   \n",
       "4          5            5           4 2022-03-01 13:10:00         1   \n",
       "..       ...          ...         ...                 ...       ...   \n",
       "145      146           86          30 2024-02-15 15:20:00         1   \n",
       "146      147           87          32 2024-02-20 11:30:00         3   \n",
       "147      148           88          34 2024-02-25 13:45:00         2   \n",
       "148      149           89          36 2024-03-01 16:15:00         1   \n",
       "149      150           90          38 2024-03-05 10:30:00         4   \n",
       "\n",
       "     total_amount  sales_year  sales_month  sales_day_of_week  \n",
       "0           79.99        2022            2                  3  \n",
       "1           39.98        2022            2                  1  \n",
       "2           34.99        2022            2                  6  \n",
       "3           74.97        2022            2                  4  \n",
       "4           89.99        2022            3                  1  \n",
       "..            ...         ...          ...                ...  \n",
       "145         34.99        2024            2                  3  \n",
       "146         83.97        2024            2                  1  \n",
       "147        109.98        2024            2                  6  \n",
       "148         29.99        2024            3                  4  \n",
       "149        139.96        2024            3                  1  \n",
       "\n",
       "[150 rows x 9 columns]"
      ]
     },
     "execution_count": 43,
     "metadata": {},
     "output_type": "execute_result"
    }
   ],
   "source": [
    "customers.groupby('state')['customer_id'].count()\n",
    "sales"
   ]
  }
 ],
 "metadata": {
  "kernelspec": {
   "display_name": "Python 3 (ipykernel)",
   "language": "python",
   "name": "python3"
  },
  "language_info": {
   "codemirror_mode": {
    "name": "ipython",
    "version": 3
   },
   "file_extension": ".py",
   "mimetype": "text/x-python",
   "name": "python",
   "nbconvert_exporter": "python",
   "pygments_lexer": "ipython3",
   "version": "3.12.10"
  }
 },
 "nbformat": 4,
 "nbformat_minor": 5
}
